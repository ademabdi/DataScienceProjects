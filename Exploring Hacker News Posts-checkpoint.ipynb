{
 "cells": [
  {
   "cell_type": "markdown",
   "metadata": {},
   "source": [
    "# Exploring Hacker News Posts\n",
    "\n",
    "In this project, we want to look at Hacker News, a website where users share, ask questions, and comment on tech related stories.\n",
    "Users can ask questions, which is denoted by Ask HN, or show stories, denoted by Show HN. The goal of the project is to  determine which of the two types of posts to the website recieve more comments on average, and how the time of day affects the number of comments on average.\n",
    "\n",
    "The data set that will be used consists of approximately 20 000 rows. The headings for the data set are as follows:\n",
    "\n",
    "id - The unique identifier from Hacker News for the post\n",
    "title - The title of the post\n",
    "url - The URL that the posts links to, if it the post has a URL\n",
    "num_points - The number of points the post acquired, calculated as the total number of upvotes minus the total number of downvotes\n",
    "num_comments - The number of comments that were made on the post\n",
    "author - The username of the person who submitted the post\n",
    "created_at - The date and time at which the post was submitted\n",
    "\n",
    "The first few rows of the data set appear as such:\n",
    "\n",
    "|id|title|url|num_points|num_comments|author|created_at|\n",
    "|--|-----|---|----------|------------|------|----------|\n",
    "|12224879|\tInteractive Dynamic Video|\thttp://www.interactivedynamicvideo.com/|\t386|\t52|\tne0phyte|\t8/4/2016 11:52|\n",
    "|10975351|\tHow to Use Open Source and Shut the Fuck Up at the Same Time|\thttp://hueniverse.com/2016/01/26/how-to-use-open-source-and-shut-the-fuck-up-at-the-same-time/|\t39|\t10\t|josep2|\t1/26/2016 19:30|\n",
    "|11964716|\tFlorida DJs May Face Felony for April Fools' Water Joke|\thttp://www.thewire.com/entertainment/2013/04/florida-djs-april-fools-water-joke/63798/|\t2|\t1\t|vezycash|\t6/23/2016 22:20|\n",
    "|11919867|\tTechnology ventures: From Idea to Enterprise\t|https://www.amazon.com/Technology-Ventures-Enterprise-Thomas-Byers/dp/0073523429|\t3\t|1\t|hswarna\t|6/17/2016 0:01|\n",
    "|10301696\t|Note by Note: The Making of Steinway L1037 (2007)\t|http://www.nytimes.com/2007/11/07/movies/07stein.html?_r=0\t|8\t|2\t|walterbell|\t9/30/2015 4:12|\n",
    "\n",
    "\n"
   ]
  },
  {
   "cell_type": "markdown",
   "metadata": {},
   "source": [
    "# Introduction\n",
    "\n",
    "First, we will read in the dataset as a list of lists (1st cell), and remove the header row (2nd cell)"
   ]
  },
  {
   "cell_type": "code",
   "execution_count": 45,
   "metadata": {},
   "outputs": [
    {
     "name": "stdout",
     "output_type": "stream",
     "text": [
      "[['id', 'title', 'url', 'num_points', 'num_comments', 'author', 'created_at'], ['12224879', 'Interactive Dynamic Video', 'http://www.interactivedynamicvideo.com/', '386', '52', 'ne0phyte', '8/4/2016 11:52'], ['10975351', 'How to Use Open Source and Shut the Fuck Up at the Same Time', 'http://hueniverse.com/2016/01/26/how-to-use-open-source-and-shut-the-fuck-up-at-the-same-time/', '39', '10', 'josep2', '1/26/2016 19:30'], ['11964716', \"Florida DJs May Face Felony for April Fools' Water Joke\", 'http://www.thewire.com/entertainment/2013/04/florida-djs-april-fools-water-joke/63798/', '2', '1', 'vezycash', '6/23/2016 22:20'], ['11919867', 'Technology ventures: From Idea to Enterprise', 'https://www.amazon.com/Technology-Ventures-Enterprise-Thomas-Byers/dp/0073523429', '3', '1', 'hswarna', '6/17/2016 0:01'], ['10301696', 'Note by Note: The Making of Steinway L1037 (2007)', 'http://www.nytimes.com/2007/11/07/movies/07stein.html?_r=0', '8', '2', 'walterbell', '9/30/2015 4:12']]\n"
     ]
    }
   ],
   "source": [
    "# Read in the data.\n",
    "from csv import reader\n",
    "opened_file  = open(\"hacker_news.csv\")\n",
    "read_file = reader(opened_file)\n",
    "hn = list(read_file)\n",
    "print(hn[:6])"
   ]
  },
  {
   "cell_type": "code",
   "execution_count": 46,
   "metadata": {},
   "outputs": [
    {
     "name": "stdout",
     "output_type": "stream",
     "text": [
      "['id', 'title', 'url', 'num_points', 'num_comments', 'author', 'created_at']\n",
      "[['12224879', 'Interactive Dynamic Video', 'http://www.interactivedynamicvideo.com/', '386', '52', 'ne0phyte', '8/4/2016 11:52'], ['10975351', 'How to Use Open Source and Shut the Fuck Up at the Same Time', 'http://hueniverse.com/2016/01/26/how-to-use-open-source-and-shut-the-fuck-up-at-the-same-time/', '39', '10', 'josep2', '1/26/2016 19:30'], ['11964716', \"Florida DJs May Face Felony for April Fools' Water Joke\", 'http://www.thewire.com/entertainment/2013/04/florida-djs-april-fools-water-joke/63798/', '2', '1', 'vezycash', '6/23/2016 22:20'], ['11919867', 'Technology ventures: From Idea to Enterprise', 'https://www.amazon.com/Technology-Ventures-Enterprise-Thomas-Byers/dp/0073523429', '3', '1', 'hswarna', '6/17/2016 0:01'], ['10301696', 'Note by Note: The Making of Steinway L1037 (2007)', 'http://www.nytimes.com/2007/11/07/movies/07stein.html?_r=0', '8', '2', 'walterbell', '9/30/2015 4:12'], ['10482257', 'Title II kills investment? Comcast and other ISPs are now spending more', 'http://arstechnica.com/business/2015/10/comcast-and-other-isps-boost-network-investment-despite-net-neutrality/', '53', '22', 'Deinos', '10/31/2015 9:48']]\n"
     ]
    }
   ],
   "source": [
    "# Remove the headers.\n",
    "headers = hn[0]\n",
    "hn.remove(hn[0])\n",
    "print(headers)\n",
    "print(hn[:6])"
   ]
  },
  {
   "cell_type": "markdown",
   "metadata": {},
   "source": [
    "# Extract Ask HN and Show HN Posts\n",
    "\n",
    "Now, we will look at posts that contain Ask HN or Show HN in the title, and create a list for each type in order to better analyze the data."
   ]
  },
  {
   "cell_type": "code",
   "execution_count": 47,
   "metadata": {},
   "outputs": [
    {
     "name": "stdout",
     "output_type": "stream",
     "text": [
      "1744\n",
      "1162\n",
      "17194\n"
     ]
    }
   ],
   "source": [
    "# Identify posts that begin with either `Ask HN` or `Show HN` and separate the data into different lists.\n",
    "ask_posts = []\n",
    "show_posts = []\n",
    "other_posts = []\n",
    "\n",
    "for row in hn:\n",
    "    title = row[1]\n",
    "    if title.lower().startswith('ask hn'):\n",
    "        ask_posts.append(row)\n",
    "    elif title.lower().startswith('show hn'):\n",
    "        show_posts.append(row)\n",
    "    else:\n",
    "        other_posts.append(row)\n",
    "        \n",
    "print(len(ask_posts))\n",
    "print(len(show_posts))\n",
    "print(len(other_posts))\n"
   ]
  },
  {
   "cell_type": "markdown",
   "metadata": {},
   "source": [
    "# Calculate Average Number of Comments for Ask HN & Show HN Posts\n",
    "\n",
    "We will calculate the average number of comments for Ask HN & Show HN posts by iterating through each list and summing the total number of comments. Then we will divide by the length of each list to get the average."
   ]
  },
  {
   "cell_type": "code",
   "execution_count": 48,
   "metadata": {},
   "outputs": [
    {
     "name": "stdout",
     "output_type": "stream",
     "text": [
      "Average number of comments on ask posts: 14.038417431192661\n",
      "Average number of comments on show posts: 10.31669535283993\n"
     ]
    }
   ],
   "source": [
    "# Calculate the average number of comments `Ask HN` posts receive.\n",
    "total_ask_comments = 0\n",
    "\n",
    "for row in ask_posts:\n",
    "    num_comments = int(row[4])\n",
    "    total_ask_comments += num_comments\n",
    "    \n",
    "avg_ask_comments = total_ask_comments/len(ask_posts)\n",
    "\n",
    "print('Average number of comments on ask posts:',avg_ask_comments)\n",
    "\n",
    "# Calculate the average number of comments `Show HN` posts receive.\n",
    "total_show_comments = 0\n",
    "\n",
    "for row in show_posts:\n",
    "    num_comments = int(row[4])\n",
    "    total_show_comments += num_comments\n",
    "    \n",
    "avg_show_comments = total_show_comments/len(show_posts)\n",
    "\n",
    "print('Average number of comments on show posts:',avg_show_comments)\n"
   ]
  },
  {
   "cell_type": "markdown",
   "metadata": {},
   "source": [
    "From our analysis, we can see that the average number of comments on ask posts is higher (approximately 14 comments) to the number of comments on show posts (approximately 10 comments). Therefore, for the rest of our analysis, we will look at ask posts."
   ]
  },
  {
   "cell_type": "markdown",
   "metadata": {},
   "source": [
    "# Finding Number of Posts & Average Comments Per Post Per Hour of the Day (Ask Posts)\n",
    "\n",
    "We will now seperate posts based on the hour of the day, find the number of posts per hour, and then the average number of comments per post per hour. "
   ]
  },
  {
   "cell_type": "code",
   "execution_count": 49,
   "metadata": {},
   "outputs": [],
   "source": [
    "# Calculate the amount of ask posts created during each hour of day and the number of comments received.\n",
    "import datetime as dt\n",
    "\n",
    "result_list = []\n",
    "\n",
    "for row in ask_posts:\n",
    "    created_at = row[6]\n",
    "    num_comments = int(row[4])\n",
    "    result_list.append([created_at,num_comments])\n",
    "    \n",
    "\n",
    "  \n",
    "counts_by_hour = {}\n",
    "comments_by_hour = {}\n",
    "template = \"%m/%d/%Y %H:%M\"\n",
    "for rows in result_list:\n",
    "    date = rows[0] \n",
    "    comments = rows[1]\n",
    "    hour = dt.datetime.strptime(date, template).strftime(\"%H\")\n",
    "    if hour not in counts_by_hour:\n",
    "        counts_by_hour[hour] = 1\n",
    "        comments_by_hour[hour] = comments\n",
    "    else:\n",
    "        counts_by_hour[hour] += 1\n",
    "        comments_by_hour[hour] += comments\n",
    "        \n",
    "\n",
    "   \n",
    "    "
   ]
  },
  {
   "cell_type": "code",
   "execution_count": 50,
   "metadata": {},
   "outputs": [
    {
     "data": {
      "text/plain": [
       "[['09', 5.5777777777777775],\n",
       " ['13', 14.741176470588234],\n",
       " ['10', 13.440677966101696],\n",
       " ['14', 13.233644859813085],\n",
       " ['16', 16.796296296296298],\n",
       " ['23', 7.985294117647059],\n",
       " ['12', 9.41095890410959],\n",
       " ['17', 11.46],\n",
       " ['15', 38.5948275862069],\n",
       " ['21', 16.009174311926607],\n",
       " ['20', 21.525],\n",
       " ['02', 23.810344827586206],\n",
       " ['18', 13.20183486238532],\n",
       " ['03', 7.796296296296297],\n",
       " ['05', 10.08695652173913],\n",
       " ['19', 10.8],\n",
       " ['01', 11.383333333333333],\n",
       " ['22', 6.746478873239437],\n",
       " ['08', 10.25],\n",
       " ['04', 7.170212765957447],\n",
       " ['00', 8.127272727272727],\n",
       " ['06', 9.022727272727273],\n",
       " ['07', 7.852941176470588],\n",
       " ['11', 11.051724137931034]]"
      ]
     },
     "execution_count": 50,
     "metadata": {},
     "output_type": "execute_result"
    }
   ],
   "source": [
    "# Calculate the average amount of comments `Ask HN` posts created at each hour of the day receive.\n",
    "\n",
    "avg_by_hour = []\n",
    "\n",
    "for hr in comments_by_hour:\n",
    "    avg_by_hour.append([hr,(comments_by_hour[hr]/counts_by_hour[hr])]) \n",
    "\n",
    "avg_by_hour"
   ]
  },
  {
   "cell_type": "markdown",
   "metadata": {},
   "source": [
    "# Sorting and Printing Values from a List of Lists"
   ]
  },
  {
   "cell_type": "code",
   "execution_count": 51,
   "metadata": {},
   "outputs": [
    {
     "name": "stdout",
     "output_type": "stream",
     "text": [
      "[[5.5777777777777775, '09'], [14.741176470588234, '13'], [13.440677966101696, '10'], [13.233644859813085, '14'], [16.796296296296298, '16'], [7.985294117647059, '23'], [9.41095890410959, '12'], [11.46, '17'], [38.5948275862069, '15'], [16.009174311926607, '21'], [21.525, '20'], [23.810344827586206, '02'], [13.20183486238532, '18'], [7.796296296296297, '03'], [10.08695652173913, '05'], [10.8, '19'], [11.383333333333333, '01'], [6.746478873239437, '22'], [10.25, '08'], [7.170212765957447, '04'], [8.127272727272727, '00'], [9.022727272727273, '06'], [7.852941176470588, '07'], [11.051724137931034, '11']]\n"
     ]
    }
   ],
   "source": [
    "swap_avg_by_hour = []\n",
    "\n",
    "for hour in avg_by_hour:\n",
    "    swap_avg_by_hour.append([hour[1],hour[0]])\n",
    "\n",
    "print(swap_avg_by_hour)\n",
    "sorted_swap = sorted(swap_avg_by_hour,reverse=True)\n",
    "\n",
    "\n"
   ]
  },
  {
   "cell_type": "code",
   "execution_count": 52,
   "metadata": {},
   "outputs": [
    {
     "name": "stdout",
     "output_type": "stream",
     "text": [
      "Top 5 Hours for Ask Posts Comments\n",
      "15:00: 38.59 average comments per post.\n",
      "02:00: 23.81 average comments per post.\n",
      "20:00: 21.52 average comments per post.\n",
      "16:00: 16.80 average comments per post.\n",
      "21:00: 16.01 average comments per post.\n"
     ]
    }
   ],
   "source": [
    "# Sort the values and print the the 5 hours with the highest average comments.\n",
    "print(\"Top 5 Hours for Ask Posts Comments\")\n",
    "for avg,hour in sorted_swap[:5]:\n",
    "    hour = dt.datetime.strptime(hour,\"%H\").strftime(\"%H:%M\")\n",
    "    template = \"{}: {:.2f} average comments per post.\".format(hour,avg)\n",
    "    print(template)"
   ]
  },
  {
   "cell_type": "markdown",
   "metadata": {},
   "source": [
    "According to the results, the time of day that recieves the most comments per post is 15:00. According to the [documentation](https://www.kaggle.com/hacker-news/hacker-news-posts/home), the timezone used is EST, so 15:00 is equivalent to 3:00 pm."
   ]
  },
  {
   "cell_type": "markdown",
   "metadata": {},
   "source": [
    "# Further Study\n",
    "\n",
    "To look further, we will examine the following:\n",
    "    - Do Show or Ask posts recieve more points on average?\n",
    "    - How does the time of day affect how many points a post will get on average\n",
    "    - Lastly, how many comments per post/points per post do other posts recieve, and how do the numbers compare\n",
    "We will follow the same procedure for finding the average number of comments, but this time we will be looking at the average number of points."
   ]
  },
  {
   "cell_type": "markdown",
   "metadata": {},
   "source": [
    "# Calculate Average Number of Points for Ask HN & Show HN Posts"
   ]
  },
  {
   "cell_type": "code",
   "execution_count": 53,
   "metadata": {},
   "outputs": [
    {
     "name": "stdout",
     "output_type": "stream",
     "text": [
      "The average number of points per ask post is 15.061926605504587\n",
      "The average number of points per show post is 27.555077452667813\n"
     ]
    }
   ],
   "source": [
    "# Calculate the total number of points `Ask HN` posts receive.\n",
    "sum_askpoints = 0\n",
    "for row in ask_posts:\n",
    "   n_points = row[3]\n",
    "   sum_askpoints += int(n_points)\n",
    "# Calculate the total number of points `Show HN` posts receive.    \n",
    "sum_showpoints = 0\n",
    "for row in show_posts:\n",
    "    n_points = row[3]\n",
    "    sum_showpoints += int(n_points)\n",
    "    \n",
    "avg_askpoints = sum_askpoints/len(ask_posts)\n",
    "print(\"The average number of points per ask post is\",avg_askpoints)\n",
    "avg_showpoints = sum_showpoints/len(show_posts)\n",
    "print(\"The average number of points per show post is\",avg_showpoints)"
   ]
  },
  {
   "cell_type": "markdown",
   "metadata": {},
   "source": [
    "Here, we can see that show posts generate more points on average, so we will continue to look at them in determining how the time of day affects the number of points a post gets."
   ]
  },
  {
   "cell_type": "markdown",
   "metadata": {},
   "source": [
    "# Finding the Average Number of Points Per Post For Different Times of the Day (Show Posts)"
   ]
  },
  {
   "cell_type": "code",
   "execution_count": 54,
   "metadata": {},
   "outputs": [],
   "source": [
    "# Calculate the amount of show posts created during each hour of day and the number of points received.\n",
    "import datetime as dt\n",
    "\n",
    "points_list = []\n",
    "\n",
    "for row in show_posts:\n",
    "    created_at = row[6]\n",
    "    num_points = int(row[3])\n",
    "    points_list.append([created_at,num_points])\n",
    "    \n",
    "\n",
    "  \n",
    "show_counts_by_hour = {}\n",
    "points_by_hour = {}\n",
    "template = \"%m/%d/%Y %H:%M\"\n",
    "for rows in points_list:\n",
    "    date = rows[0] \n",
    "    points = rows[1]\n",
    "    hour = dt.datetime.strptime(date, template).strftime(\"%H\")\n",
    "    if hour not in show_counts_by_hour:\n",
    "        show_counts_by_hour[hour] = 1\n",
    "        points_by_hour[hour] = points\n",
    "    else:\n",
    "        show_counts_by_hour[hour] += 1\n",
    "        points_by_hour[hour] += points\n",
    "\n",
    "        "
   ]
  },
  {
   "cell_type": "code",
   "execution_count": 55,
   "metadata": {},
   "outputs": [
    {
     "data": {
      "text/plain": [
       "[['14', 20.439252336448597],\n",
       " ['22', 26.140845070422536],\n",
       " ['18', 20.321100917431192],\n",
       " ['07', 14.529411764705882],\n",
       " ['20', 22.7375],\n",
       " ['05', 2.260869565217391],\n",
       " ['16', 24.38888888888889],\n",
       " ['19', 15.472727272727273],\n",
       " ['15', 19.20689655172414],\n",
       " ['03', 12.574074074074074],\n",
       " ['17', 25.21],\n",
       " ['06', 8.522727272727273],\n",
       " ['02', 5.862068965517241],\n",
       " ['13', 28.68235294117647],\n",
       " ['08', 10.8125],\n",
       " ['21', 7.944954128440367],\n",
       " ['04', 8.212765957446809],\n",
       " ['11', 25.517241379310345],\n",
       " ['12', 34.83561643835616],\n",
       " ['23', 22.441176470588236],\n",
       " ['09', 12.28888888888889],\n",
       " ['01', 11.666666666666666],\n",
       " ['10', 11.542372881355933],\n",
       " ['00', 21.327272727272728]]"
      ]
     },
     "execution_count": 55,
     "metadata": {},
     "output_type": "execute_result"
    }
   ],
   "source": [
    "# Calculate the average amount of points `Show HN` posts created at each hour of the day receive.\n",
    "avg_points_by_hour = []\n",
    "\n",
    "for hr in points_by_hour:\n",
    "    avg_points_by_hour.append([hr,(points_by_hour[hr]/counts_by_hour[hr])]) \n",
    "\n",
    "avg_points_by_hour"
   ]
  },
  {
   "cell_type": "code",
   "execution_count": 56,
   "metadata": {},
   "outputs": [
    {
     "name": "stdout",
     "output_type": "stream",
     "text": [
      "[[20.439252336448597, '14'], [26.140845070422536, '22'], [20.321100917431192, '18'], [14.529411764705882, '07'], [22.7375, '20'], [2.260869565217391, '05'], [24.38888888888889, '16'], [15.472727272727273, '19'], [19.20689655172414, '15'], [12.574074074074074, '03'], [25.21, '17'], [8.522727272727273, '06'], [5.862068965517241, '02'], [28.68235294117647, '13'], [10.8125, '08'], [7.944954128440367, '21'], [8.212765957446809, '04'], [25.517241379310345, '11'], [34.83561643835616, '12'], [22.441176470588236, '23'], [12.28888888888889, '09'], [11.666666666666666, '01'], [11.542372881355933, '10'], [21.327272727272728, '00']]\n"
     ]
    }
   ],
   "source": [
    "swap_avg_points_by_hour = []\n",
    "\n",
    "for hour in avg_points_by_hour:\n",
    "    swap_avg_points_by_hour.append([hour[1],hour[0]])\n",
    "\n",
    "print(swap_avg_points_by_hour)\n",
    "sorted_swap_points = sorted(swap_avg_points_by_hour,reverse=True)"
   ]
  },
  {
   "cell_type": "code",
   "execution_count": 57,
   "metadata": {},
   "outputs": [
    {
     "name": "stdout",
     "output_type": "stream",
     "text": [
      "Top 5 Hours for Show Posts Points\n",
      "12:00: 34.84 average points per post.\n",
      "13:00: 28.68 average points per post.\n",
      "22:00: 26.14 average points per post.\n",
      "11:00: 25.52 average points per post.\n",
      "17:00: 25.21 average points per post.\n"
     ]
    }
   ],
   "source": [
    "# Sort the values and print the the 5 hours with the highest average points.\n",
    "print(\"Top 5 Hours for Show Posts Points\")\n",
    "for avg,hour in sorted_swap_points[:5]:\n",
    "    hour = dt.datetime.strptime(hour,\"%H\").strftime(\"%H:%M\")\n",
    "    template = \"{}: {:.2f} average points per post.\".format(hour,avg)\n",
    "    print(template)"
   ]
  },
  {
   "cell_type": "markdown",
   "metadata": {},
   "source": [
    "The results show that the top 5 show posts that get the most points are midday (11:00,12:00,13:00) or during the night (17:00,22:00)."
   ]
  },
  {
   "cell_type": "markdown",
   "metadata": {},
   "source": [
    "# Finding Number of Posts & Average Comments Per Post Per Hour of the Day (Other Posts)\n",
    "\n",
    "We will now look at the same statistics (average comments, average points, etc) for the posts that do not contain \"ask hn\" or \"show hn\" in the title."
   ]
  },
  {
   "cell_type": "code",
   "execution_count": 58,
   "metadata": {},
   "outputs": [
    {
     "name": "stdout",
     "output_type": "stream",
     "text": [
      "Average number of comments on other posts: 26.8730371059672\n"
     ]
    }
   ],
   "source": [
    "# Calculate the average number of comments other posts receive.\n",
    "total_other_comments = 0\n",
    "\n",
    "for row in other_posts:\n",
    "    num_comments = int(row[4])\n",
    "    total_other_comments += num_comments\n",
    "    \n",
    "avg_other_comments = total_other_comments/len(other_posts)\n",
    "\n",
    "print('Average number of comments on other posts:',avg_other_comments)"
   ]
  },
  {
   "cell_type": "code",
   "execution_count": 59,
   "metadata": {},
   "outputs": [],
   "source": [
    "# Calculate the amount of other posts created during each hour of day and the number of comments received.\n",
    "import datetime as dt\n",
    "result_list_other = []\n",
    "\n",
    "for row in other_posts:\n",
    "    created_at = row[6]\n",
    "    num_comments = int(row[4])\n",
    "    result_list_other.append([created_at,num_comments])\n",
    "    \n",
    "\n",
    "  \n",
    "other_counts_by_hour = {}\n",
    "other_comments_by_hour = {}\n",
    "template = \"%m/%d/%Y %H:%M\"\n",
    "for rows in result_list_other:\n",
    "    date = rows[0] \n",
    "    comments = rows[1]\n",
    "    hour = dt.datetime.strptime(date, template).strftime(\"%H\")\n",
    "    if hour not in other_counts_by_hour:\n",
    "        other_counts_by_hour[hour] = 1\n",
    "        other_comments_by_hour[hour] = comments\n",
    "    else:\n",
    "        other_counts_by_hour[hour] += 1\n",
    "        other_comments_by_hour[hour] += comments\n",
    "        "
   ]
  },
  {
   "cell_type": "code",
   "execution_count": 60,
   "metadata": {},
   "outputs": [
    {
     "data": {
      "text/plain": [
       "[['11', 29.593939393939394],\n",
       " ['19', 26.701020408163266],\n",
       " ['22', 23.265171503957784],\n",
       " ['00', 27.076923076923077],\n",
       " ['04', 24.125550660792953],\n",
       " ['09', 27.588014981273407],\n",
       " ['16', 25.394187102633968],\n",
       " ['18', 26.924354243542435],\n",
       " ['10', 26.612521150592215],\n",
       " ['12', 30.34727503168568],\n",
       " ['20', 23.13940724478595],\n",
       " ['03', 26.825552825552826],\n",
       " ['17', 27.99572284003422],\n",
       " ['14', 32.33089770354906],\n",
       " ['13', 30.896514161220043],\n",
       " ['01', 23.072],\n",
       " ['23', 24.617210682492583],\n",
       " ['08', 27.026209677419356],\n",
       " ['02', 27.786848072562357],\n",
       " ['21', 23.60983981693364],\n",
       " ['15', 29.51923076923077],\n",
       " ['06', 21.357843137254903],\n",
       " ['05', 25.175257731958762],\n",
       " ['07', 26.808035714285715]]"
      ]
     },
     "execution_count": 60,
     "metadata": {},
     "output_type": "execute_result"
    }
   ],
   "source": [
    "# Calculate the average amount of comments other posts created at each hour of the day receive.\n",
    "avg_other_by_hour = []\n",
    "\n",
    "for hr in other_comments_by_hour:\n",
    "    avg_other_by_hour.append([hr,(other_comments_by_hour[hr]/other_counts_by_hour[hr])]) \n",
    "\n",
    "avg_other_by_hour"
   ]
  },
  {
   "cell_type": "code",
   "execution_count": 61,
   "metadata": {},
   "outputs": [
    {
     "name": "stdout",
     "output_type": "stream",
     "text": [
      "[[29.593939393939394, '11'], [26.701020408163266, '19'], [23.265171503957784, '22'], [27.076923076923077, '00'], [24.125550660792953, '04'], [27.588014981273407, '09'], [25.394187102633968, '16'], [26.924354243542435, '18'], [26.612521150592215, '10'], [30.34727503168568, '12'], [23.13940724478595, '20'], [26.825552825552826, '03'], [27.99572284003422, '17'], [32.33089770354906, '14'], [30.896514161220043, '13'], [23.072, '01'], [24.617210682492583, '23'], [27.026209677419356, '08'], [27.786848072562357, '02'], [23.60983981693364, '21'], [29.51923076923077, '15'], [21.357843137254903, '06'], [25.175257731958762, '05'], [26.808035714285715, '07']]\n"
     ]
    }
   ],
   "source": [
    "swap_avg_other_by_hour = []\n",
    "\n",
    "for hour in avg_other_by_hour:\n",
    "    swap_avg_other_by_hour.append([hour[1],hour[0]])\n",
    "\n",
    "print(swap_avg_other_by_hour)\n",
    "sorted_swap_other = sorted(swap_avg_other_by_hour,reverse=True)\n",
    "\n"
   ]
  },
  {
   "cell_type": "code",
   "execution_count": 62,
   "metadata": {},
   "outputs": [
    {
     "name": "stdout",
     "output_type": "stream",
     "text": [
      "Top 5 Hours for Other Posts Comments\n",
      "14:00: 32.33 average comments per post.\n",
      "13:00: 30.90 average comments per post.\n",
      "12:00: 30.35 average comments per post.\n",
      "11:00: 29.59 average comments per post.\n",
      "15:00: 29.52 average comments per post.\n"
     ]
    }
   ],
   "source": [
    "# Sort the values and print the the 5 hours with the highest average comments.\n",
    "print(\"Top 5 Hours for Other Posts Comments\")\n",
    "for avg,hour in sorted_swap_other[:5]:\n",
    "    hour = dt.datetime.strptime(hour,\"%H\").strftime(\"%H:%M\")\n",
    "    template = \"{}: {:.2f} average comments per post.\".format(hour,avg)\n",
    "    print(template)"
   ]
  },
  {
   "cell_type": "markdown",
   "metadata": {},
   "source": [
    "For other posts, the largest value for the top 5 average comments per post was 32.33 at 14:00. The other 4 hours were during the same time of the day (afternoon), ranging from 11:00 to 15:00. "
   ]
  },
  {
   "cell_type": "markdown",
   "metadata": {},
   "source": [
    "# Finding the Average Number of Points Per Post For Different Times of the Day (Other Posts)"
   ]
  },
  {
   "cell_type": "code",
   "execution_count": 63,
   "metadata": {},
   "outputs": [],
   "source": [
    "# Calculate the amount of other posts created during each hour of day and the number of points received.\n",
    "import datetime as dt\n",
    "\n",
    "other_points_list = []\n",
    "\n",
    "for row in other_posts:\n",
    "    created_at = row[6]\n",
    "    num_points = int(row[3])\n",
    "    other_points_list.append([created_at,num_points])\n",
    "    \n",
    "\n",
    "  \n",
    "other_points_counts_by_hour = {}\n",
    "other_points_by_hour = {}\n",
    "template = \"%m/%d/%Y %H:%M\"\n",
    "for rows in other_points_list:\n",
    "    date = rows[0] \n",
    "    points = rows[1]\n",
    "    hour = dt.datetime.strptime(date, template).strftime(\"%H\")\n",
    "    if hour not in other_points_counts_by_hour:\n",
    "        other_points_counts_by_hour[hour] = 1\n",
    "        other_points_by_hour[hour] = points\n",
    "    else:\n",
    "        other_points_counts_by_hour[hour] += 1\n",
    "        other_points_by_hour[hour] += points\n"
   ]
  },
  {
   "cell_type": "code",
   "execution_count": 64,
   "metadata": {},
   "outputs": [
    {
     "data": {
      "text/plain": [
       "[['11', 57.56818181818182],\n",
       " ['19', 60.01122448979592],\n",
       " ['22', 50.236147757255935],\n",
       " ['00', 58.4582651391162],\n",
       " ['04', 49.66740088105727],\n",
       " ['09', 53.93632958801498],\n",
       " ['16', 54.182561307901906],\n",
       " ['18', 53.928966789667896],\n",
       " ['10', 60.4839255499154],\n",
       " ['12', 57.3979721166033],\n",
       " ['20', 45.24478594950604],\n",
       " ['03', 56.92137592137592],\n",
       " ['17', 57.97861420017109],\n",
       " ['14', 61.78601252609603],\n",
       " ['13', 62.525054466230934],\n",
       " ['01', 50.606],\n",
       " ['23', 52.02967359050445],\n",
       " ['08', 54.09274193548387],\n",
       " ['02', 58.471655328798185],\n",
       " ['21', 49.369565217391305],\n",
       " ['15', 60.542307692307695],\n",
       " ['06', 46.23529411764706],\n",
       " ['05', 49.96649484536083],\n",
       " ['07', 56.832589285714285]]"
      ]
     },
     "execution_count": 64,
     "metadata": {},
     "output_type": "execute_result"
    }
   ],
   "source": [
    "# Calculate the average amount of points other posts created at each hour of the day receive.\n",
    "avg_other_points_by_hour = []\n",
    "\n",
    "for hr in other_points_by_hour:\n",
    "    avg_other_points_by_hour.append([hr,(other_points_by_hour[hr]/other_points_counts_by_hour[hr])]) \n",
    "\n",
    "avg_other_points_by_hour"
   ]
  },
  {
   "cell_type": "code",
   "execution_count": 65,
   "metadata": {},
   "outputs": [
    {
     "name": "stdout",
     "output_type": "stream",
     "text": [
      "[[57.56818181818182, '11'], [60.01122448979592, '19'], [50.236147757255935, '22'], [58.4582651391162, '00'], [49.66740088105727, '04'], [53.93632958801498, '09'], [54.182561307901906, '16'], [53.928966789667896, '18'], [60.4839255499154, '10'], [57.3979721166033, '12'], [45.24478594950604, '20'], [56.92137592137592, '03'], [57.97861420017109, '17'], [61.78601252609603, '14'], [62.525054466230934, '13'], [50.606, '01'], [52.02967359050445, '23'], [54.09274193548387, '08'], [58.471655328798185, '02'], [49.369565217391305, '21'], [60.542307692307695, '15'], [46.23529411764706, '06'], [49.96649484536083, '05'], [56.832589285714285, '07']]\n"
     ]
    }
   ],
   "source": [
    "swap_avg_other_points_by_hour = []\n",
    "\n",
    "for hour in avg_other_points_by_hour:\n",
    "    swap_avg_other_points_by_hour.append([hour[1],hour[0]])\n",
    "\n",
    "print(swap_avg_other_points_by_hour)\n",
    "sorted_swap_points_other = sorted(swap_avg_other_points_by_hour,reverse=True)"
   ]
  },
  {
   "cell_type": "code",
   "execution_count": 66,
   "metadata": {},
   "outputs": [
    {
     "name": "stdout",
     "output_type": "stream",
     "text": [
      "Top 5 Hours for Other Posts Points\n",
      "13:00: 62.53 average points per post.\n",
      "14:00: 61.79 average points per post.\n",
      "15:00: 60.54 average points per post.\n",
      "10:00: 60.48 average points per post.\n",
      "19:00: 60.01 average points per post.\n"
     ]
    }
   ],
   "source": [
    "# Sort the values and print the the 5 hours with the highest average points.\n",
    "print(\"Top 5 Hours for Other Posts Points\")\n",
    "for avg,hour in sorted_swap_points_other[:5]:\n",
    "    hour = dt.datetime.strptime(hour,\"%H\").strftime(\"%H:%M\")\n",
    "    template = \"{}: {:.2f} average points per post.\".format(hour,avg)\n",
    "    print(template)"
   ]
  },
  {
   "cell_type": "markdown",
   "metadata": {},
   "source": [
    "For other posts, the highest average number of points was 62.53, and the times at which these highest instances occured ranged from 10:00 to 19:00."
   ]
  },
  {
   "cell_type": "markdown",
   "metadata": {},
   "source": [
    "|Type of Post|Average Comments Per Post|Average Points Per Post|Time Occured|\n",
    "|------------|-------------------------|-----------------------|------------|\n",
    "|    Show    |         --              |          35           |    12:00   |\n",
    "|    Ask     |         39              |          --           |    15:00   |\n",
    "|    Other   |         32              |          63           |    14:00   |"
   ]
  },
  {
   "cell_type": "markdown",
   "metadata": {},
   "source": [
    "# Conclusion\n",
    "\n",
    "From analyzing the three types of posts (show,ask,other), we can see that on average, posts get the most comments from 14:00-16:00, and posts get the most points from 12:00-13:00, and 14:00-15:00 (with other posts getting significantly more points on average). In order to maximize the amount of comments one recieves, it is recommended to make an ask post from 15:00-16:00. In order to maximize the amount of points one recieves, it is recommended to make an other post from 14:00-15:00. "
   ]
  }
 ],
 "metadata": {
  "kernelspec": {
   "display_name": "Python 3",
   "language": "python",
   "name": "python3"
  },
  "language_info": {
   "codemirror_mode": {
    "name": "ipython",
    "version": 3
   },
   "file_extension": ".py",
   "mimetype": "text/x-python",
   "name": "python",
   "nbconvert_exporter": "python",
   "pygments_lexer": "ipython3",
   "version": "3.7.1"
  }
 },
 "nbformat": 4,
 "nbformat_minor": 2
}
